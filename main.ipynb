{
 "cells": [
  {
   "cell_type": "code",
   "execution_count": 2,
   "id": "3ee636fb",
   "metadata": {},
   "outputs": [],
   "source": [
    "import pandas as pd\n",
    "\n",
    "df = pd.read_json(\"combined_dataset.json\", lines=True)\n",
    "df.to_csv(\"Dataset.csv\", index=False)"
   ]
  },
  {
   "cell_type": "code",
   "execution_count": 3,
   "id": "c8faa31a",
   "metadata": {},
   "outputs": [],
   "source": [
    "df.isnull().sum()\n",
    "df.drop_duplicates(inplace=True)"
   ]
  },
  {
   "cell_type": "code",
   "execution_count": 4,
   "id": "376649ce",
   "metadata": {},
   "outputs": [
    {
     "name": "stdout",
     "output_type": "stream",
     "text": [
      "<class 'pandas.core.frame.DataFrame'>\n",
      "Index: 2752 entries, 0 to 3511\n",
      "Data columns (total 2 columns):\n",
      " #   Column    Non-Null Count  Dtype \n",
      "---  ------    --------------  ----- \n",
      " 0   Context   2752 non-null   object\n",
      " 1   Response  2752 non-null   object\n",
      "dtypes: object(2)\n",
      "memory usage: 64.5+ KB\n"
     ]
    }
   ],
   "source": [
    "df.info()"
   ]
  },
  {
   "cell_type": "code",
   "execution_count": 5,
   "id": "bc9e8ea0",
   "metadata": {},
   "outputs": [],
   "source": [
    "import re\n",
    "\n",
    "def ProcessAndCombineText(text1,text2):\n",
    "    # Remove leading and trailing whitespace\n",
    "    text1.strip()\n",
    "    text2.strip()\n",
    "\n",
    "    # Replace newline characters with spaces\n",
    "    text1 = text1.replace(\"\\n\", \" \")\n",
    "    text2 = text2.replace(\"\\n\", \" \")\n",
    "\n",
    "    # Remove multiple spaces\n",
    "    text1 = re.sub(r'\\s+', ' ', text1)\n",
    "    text2 = re.sub(r'\\s+', ' ', text2)\n",
    "\n",
    "    # Add space after punctuation if not present\n",
    "    text1 = re.sub(r'([\\.\\,\\?\\!])(\\w)', r'\\1 \\2', text1)\n",
    "    text2 = re.sub(r'([\\.\\,\\?\\!])(\\w)', r'\\1 \\2', text2)\n",
    "\n",
    "    # Add label to the sentences for better understanding\n",
    "    text1 = \"Client: \" + text1\n",
    "    text2 = \"Assistant: \" + text2\n",
    "\n",
    "    # Combine the two texts\n",
    "    text = text1 + \"\\n\" + text2\n",
    "\n",
    "    return text\n",
    "\n",
    "df['combined'] = df.apply(lambda x: ProcessAndCombineText(x['Context'], x['Response']), axis=1)"
   ]
  },
  {
   "cell_type": "code",
   "execution_count": 7,
   "id": "83791bcb",
   "metadata": {},
   "outputs": [
    {
     "name": "stdout",
     "output_type": "stream",
     "text": [
      "Client: I'm going through some things with my feelings and myself. I barely sleep and I do nothing but think about how I'm worthless and how I shouldn't be here. I've never tried or contemplated suicide. I've always wanted to fix my issues, but I never get around to it. How can I change my feeling of being worthless to everyone?\n",
      "Assistant: Hello, and thank you for your question and seeking advice on this. Feelings of worthlessness is unfortunately common. In fact, most people, if not all, have felt this to some degree at some point in their life. You are not alone. Changing our feelings is like changing our thoughts - it's hard to do. Our minds are so amazing that the minute you change your thought another one can be right there to take it's place. Without your permission, another thought can just pop in there. The new thought may feel worse than the last one! My guess is that you have tried several things to improve this on your own even before reaching out on here. People often try thinking positive thoughts, debating with their thoughts, or simply telling themselves that they need to \"snap out of it\" - which is also a thought that carries some self-criticism. Some people try a different approach, and there are counselors out there that can help you with this. The idea is that instead of trying to change the thoughts, you change how you respond to them. You learn skills that allow you to manage difficult thoughts and feelings differently so they don't have the same impact on you that they do right now. For some people, they actually DO begin to experience less hurtful thoughts once they learn how to manage the ones they have differently. Acceptance and Commitment Therapy may be a good choice for you. There is information online and even self-help books that you can use to teach you the skills that I mentioned. Because they are skills, they require practice, but many people have found great relief and an enriched life by learning them. As for suicidal thoughts, I am very glad to read that this has not happened to you. Still, you should watch out for this because it can be a sign of a worsening depression. If you begin to think about this, it is important to reach out to a support system right away. The National Suicide Prevention Lifeline is 1-800-273-8255. The text line is #741741. I hope some other colleagues will provide you more suggestions. Be well... Robin Landwehr, DBH, LPCC\n"
     ]
    }
   ],
   "source": [
    "print(df['combined'].iloc[1])"
   ]
  },
  {
   "cell_type": "code",
   "execution_count": null,
   "id": "fcedfb28",
   "metadata": {},
   "outputs": [],
   "source": [
    "from openai import OpenAI\n",
    "\n",
    "client = OpenAI()\n",
    "\n",
    "def get_embedding(text, model=\"text-embedding-3-small\"):\n",
    "    return client.embeddings.create(input = [text], model=model).data[0].embedding\n",
    "\n",
    "df['embedding'] = df['combined'].apply(lambda x: get_embedding(x))\n",
    "\n",
    "\n",
    "# df.to_csv('embedded_1k_reviews.csv', index=False)"
   ]
  },
  {
   "cell_type": "code",
   "execution_count": null,
   "id": "90a9a30a",
   "metadata": {},
   "outputs": [],
   "source": [
    "import numpy as np\n",
    "\n",
    "# Convert the embeddings to a numpy array\n",
    "embedding_matrix = np.array(df['embedding'].to_list()).astype(np.float32)"
   ]
  },
  {
   "cell_type": "code",
   "execution_count": null,
   "id": "d98a236e",
   "metadata": {},
   "outputs": [],
   "source": [
    "import faiss\n",
    "\n",
    "# Get the dimension of the embeddings\n",
    "dimension = embedding_matrix.shape[1]\n",
    "\n",
    "# Create a FAISS index that uses L2 distance \n",
    "index = faiss.IndexFlatL2(dimension) \n",
    "\n",
    "# Add the embeddings to the index\n",
    "index.add(embedding_matrix)"
   ]
  },
  {
   "cell_type": "code",
   "execution_count": null,
   "id": "ff04a823",
   "metadata": {},
   "outputs": [],
   "source": [
    "# Save the index to a file so we can use it later\n",
    "faiss.write_index(index, \"sanity_llm_index.faiss\")"
   ]
  },
  {
   "cell_type": "code",
   "execution_count": null,
   "id": "6332e1ae",
   "metadata": {},
   "outputs": [],
   "source": [
    "# Read the index from the file\n",
    "faiss.read_index(\"sanity_llm_index.faiss\")\n",
    "\n",
    "query = \"Testing\"\n",
    "\n",
    "# Embed the query and then turnining it into a numpy array with float32 type\n",
    "def prepare_query_embedding(query):\n",
    "    return np.array([get_embedding(query)]).astype(np.float32)"
   ]
  }
 ],
 "metadata": {
  "kernelspec": {
   "display_name": "Python 3",
   "language": "python",
   "name": "python3"
  },
  "language_info": {
   "codemirror_mode": {
    "name": "ipython",
    "version": 3
   },
   "file_extension": ".py",
   "mimetype": "text/x-python",
   "name": "python",
   "nbconvert_exporter": "python",
   "pygments_lexer": "ipython3",
   "version": "3.13.0"
  }
 },
 "nbformat": 4,
 "nbformat_minor": 5
}
